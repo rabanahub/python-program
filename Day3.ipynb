{
 "cells": [
  {
   "cell_type": "code",
   "execution_count": 4,
   "id": "085a1bda-5bff-476e-8e51-889d91da3b0a",
   "metadata": {},
   "outputs": [
    {
     "name": "stdout",
     "output_type": "stream",
     "text": [
      "hello, i am from function\n"
     ]
    }
   ],
   "source": [
    "\n",
    "# python function\n",
    "def myfunction():#function defining\n",
    "    print(\"hello, i am from function\")\n",
    "\n",
    "myfunction()# function calling\n"
   ]
  },
  {
   "cell_type": "code",
   "execution_count": 6,
   "id": "98ca7e2f-1d22-4d8f-b390-31b8c3221910",
   "metadata": {},
   "outputs": [
    {
     "name": "stdout",
     "output_type": "stream",
     "text": [
      "your name is:rabana\n"
     ]
    }
   ],
   "source": [
    "# function with parameters\n",
    "def myfunction(name):\n",
    "    print('your name is:' +name)\n",
    "myfunction('rabana')"
   ]
  },
  {
   "cell_type": "code",
   "execution_count": 15,
   "id": "fe8029ce-ca74-43fd-a961-08adaca0791e",
   "metadata": {},
   "outputs": [
    {
     "name": "stdout",
     "output_type": "stream",
     "text": [
      "9\n"
     ]
    }
   ],
   "source": [
    "def add(a,b,c):\n",
    "    return a+b+c\n",
    "add(3,4,5)\n",
    "\n",
    "# using lambda\n",
    "f=lambda a,b,c:a+b+c\n",
    "print(f(2,3,4))"
   ]
  },
  {
   "cell_type": "code",
   "execution_count": 21,
   "id": "e185e19d-56c2-4199-90cb-de467b62f790",
   "metadata": {},
   "outputs": [
    {
     "name": "stdout",
     "output_type": "stream",
     "text": [
      "[1, 4, 9, 16]\n"
     ]
    }
   ],
   "source": [
    "# Map function\n",
    "num=[1,2,3,4]\n",
    "\n",
    "def sq(n):\n",
    "    return n*n\n",
    "square=map(sq,num)\n",
    "print(list(square))"
   ]
  },
  {
   "cell_type": "code",
   "execution_count": 23,
   "id": "1a591b7d-1fe5-4a3e-abd6-ec43d783bd34",
   "metadata": {},
   "outputs": [
    {
     "name": "stdout",
     "output_type": "stream",
     "text": [
      "[('rabana', 1), ('ravi', 2), ('amol', 3)]\n"
     ]
    }
   ],
   "source": [
    "#zip function\n",
    "name=['rabana','ravi','amol']\n",
    "id=[1,2,3]\n",
    "\n",
    "mapped=zip(name,id)\n",
    "print(list(mapped))"
   ]
  },
  {
   "cell_type": "code",
   "execution_count": 24,
   "id": "ebcbf644",
   "metadata": {},
   "outputs": [
    {
     "name": "stdout",
     "output_type": "stream",
     "text": [
      "apple\n",
      "banana\n",
      "cherry\n",
      "pineapple\n",
      "mango\n"
     ]
    }
   ],
   "source": [
    "# for loop\n",
    "fruits=['apple','banana','cherry','pineapple','mango']\n",
    "for i in fruits:\n",
    "    print(i)\n"
   ]
  },
  {
   "cell_type": "code",
   "execution_count": 25,
   "id": "5ed2a367",
   "metadata": {},
   "outputs": [
    {
     "name": "stdout",
     "output_type": "stream",
     "text": [
      "apple\n",
      "banana\n"
     ]
    }
   ],
   "source": [
    "# for break\n",
    "for i in fruits:\n",
    "    print(i)\n",
    "    if i=='banana':\n",
    "        break\n",
    "    \n"
   ]
  },
  {
   "cell_type": "code",
   "execution_count": 27,
   "id": "cb379c31",
   "metadata": {},
   "outputs": [
    {
     "name": "stdout",
     "output_type": "stream",
     "text": [
      "apple\n",
      "cherry\n",
      "pineapple\n",
      "mango\n"
     ]
    }
   ],
   "source": [
    "# for continue\n",
    "for i in fruits:\n",
    "    if i=='banana':\n",
    "        continue\n",
    "    print(i)\n",
    "    "
   ]
  },
  {
   "cell_type": "code",
   "execution_count": 29,
   "id": "ae8b388b",
   "metadata": {},
   "outputs": [
    {
     "name": "stdout",
     "output_type": "stream",
     "text": [
      "1\n",
      "2\n",
      "3\n",
      "4\n",
      "5\n",
      "6\n"
     ]
    }
   ],
   "source": [
    "# while lop\n",
    "n=1\n",
    "while(n<=6):\n",
    "    print(n)\n",
    "    n+=1\n"
   ]
  },
  {
   "cell_type": "code",
   "execution_count": 30,
   "id": "d7a3b979",
   "metadata": {},
   "outputs": [
    {
     "name": "stdout",
     "output_type": "stream",
     "text": [
      "1\n",
      "2\n",
      "3\n",
      "4\n"
     ]
    }
   ],
   "source": [
    "# while with break\n",
    "n=1\n",
    "while(n<=6):\n",
    "    print(n)\n",
    "    if n==4:\n",
    "        break\n",
    "    n+=1"
   ]
  },
  {
   "cell_type": "code",
   "execution_count": 1,
   "id": "48003eaa",
   "metadata": {},
   "outputs": [
    {
     "name": "stdout",
     "output_type": "stream",
     "text": [
      "1\n",
      "2\n",
      "3\n",
      "4\n",
      "5\n",
      "6\n",
      "7\n",
      "8\n",
      "9\n",
      "10\n",
      "11\n",
      "12\n",
      "13\n",
      "14\n",
      "16\n",
      "17\n",
      "18\n",
      "19\n",
      "20\n"
     ]
    }
   ],
   "source": [
    "# while with continue\n",
    "n=0\n",
    "while n<20:\n",
    "    n+=1\n",
    "    if n==15:\n",
    "        continue\n",
    "    print(n)"
   ]
  },
  {
   "cell_type": "code",
   "execution_count": null,
   "id": "e067914a",
   "metadata": {},
   "outputs": [],
   "source": []
  },
  {
   "cell_type": "code",
   "execution_count": null,
   "id": "afeb781a",
   "metadata": {},
   "outputs": [],
   "source": []
  }
 ],
 "metadata": {
  "kernelspec": {
   "display_name": "Python 3 (ipykernel)",
   "language": "python",
   "name": "python3"
  },
  "language_info": {
   "codemirror_mode": {
    "name": "ipython",
    "version": 3
   },
   "file_extension": ".py",
   "mimetype": "text/x-python",
   "name": "python",
   "nbconvert_exporter": "python",
   "pygments_lexer": "ipython3",
   "version": "3.9.7"
  }
 },
 "nbformat": 4,
 "nbformat_minor": 5
}
