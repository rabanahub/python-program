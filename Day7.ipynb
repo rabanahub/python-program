{
 "cells": [
  {
   "cell_type": "code",
   "execution_count": 3,
   "id": "54700f4e-b864-454f-95da-5854d163b8d2",
   "metadata": {},
   "outputs": [
    {
     "name": "stdout",
     "output_type": "stream",
     "text": [
      "[2 3 4]\n",
      "[1 2 3 4]\n",
      "[2 3 4 5 6 7]\n"
     ]
    }
   ],
   "source": [
    "# slicing array\n",
    "import numpy as np\n",
    "arr=np.array([1,2,3,4,5,6,7])\n",
    "arr\n",
    "print(arr[1:4])\n",
    "print(arr[:4])\n",
    "print(arr[1:])"
   ]
  },
  {
   "cell_type": "code",
   "execution_count": 5,
   "id": "0b6adb19",
   "metadata": {},
   "outputs": [
    {
     "name": "stdout",
     "output_type": "stream",
     "text": [
      "[7 8 9]\n",
      "[3 8]\n",
      "[[2 3 4]\n",
      " [7 8 9]]\n"
     ]
    }
   ],
   "source": [
    "a2=np.array([[1,2,3,4,5],[6,7,8,9,10]])\n",
    "print(a2[1,1:4])\n",
    "print(a2[0:2,2])\n",
    "print(a2[0:2,1:4])"
   ]
  },
  {
   "cell_type": "code",
   "execution_count": 16,
   "id": "7e6fd943",
   "metadata": {},
   "outputs": [
    {
     "data": {
      "text/plain": [
       "array([[1, 2, 3, 5],\n",
       "       [4, 5, 6, 8]])"
      ]
     },
     "execution_count": 16,
     "metadata": {},
     "output_type": "execute_result"
    }
   ],
   "source": [
    "# append ,insert,delete operation\n",
    "a=np.array([[1,2,3],[4,5,6]])\n",
    "# append\n",
    "#np.append(a,[7,8,9])\n",
    "#np.append(a,[[7,8,9]],axis=0)\n",
    "np.append(a,[[5],[8]],axis=1)"
   ]
  },
  {
   "cell_type": "code",
   "execution_count": 25,
   "id": "89b3fb78",
   "metadata": {},
   "outputs": [
    {
     "data": {
      "text/plain": [
       "array([[1],\n",
       "       [3],\n",
       "       [5]])"
      ]
     },
     "execution_count": 25,
     "metadata": {},
     "output_type": "execute_result"
    }
   ],
   "source": [
    "a=np.array([[1,2],[3,4],[5,6]])\n",
    "#np.insert(a,3,[11,12])\n",
    "#np.insert(a,1,[11,12],axis=0)\n",
    "#np.insert(a,1,[11,12,13],axis=1)\n",
    "\n",
    "# delete method\n",
    "# np.delete(a,5)\n",
    "# np.delete(a,1,axis=0)\n",
    "np.delete(a,1,axis=1)\n"
   ]
  },
  {
   "cell_type": "code",
   "execution_count": 31,
   "id": "ff2ea2a4",
   "metadata": {},
   "outputs": [
    {
     "name": "stdout",
     "output_type": "stream",
     "text": [
      "[1 2 3 4 5 6]\n",
      "[[1 2 3]\n",
      " [4 5 6]]\n"
     ]
    }
   ],
   "source": [
    "a=np.array([1,2,3])\n",
    "b=np.array([4,5,6])\n",
    "# print(a,b)\n",
    "# print(np.ndim(a),np.ndim(b))\n",
    "result=np.hstack((a,b))\n",
    "print(result)\n",
    "result1=np.vstack((a,b))\n",
    "print(result1)"
   ]
  },
  {
   "cell_type": "code",
   "execution_count": 36,
   "id": "582ed96c",
   "metadata": {},
   "outputs": [
    {
     "name": "stdout",
     "output_type": "stream",
     "text": [
      "[[2 4 3 5]\n",
      " [6 8 7 9]]\n"
     ]
    }
   ],
   "source": [
    "arr1=np.array([[2,4],[6,8]])\n",
    "arr2=np.array([[3,5],[7,9]])\n",
    "# new=np.concatenate((arr1,arr2),axis=0)\n",
    "# print(new)\n",
    "new=np.concatenate((arr1,arr2),axis=1)\n",
    "print(new)"
   ]
  },
  {
   "cell_type": "code",
   "execution_count": null,
   "id": "742a0f18",
   "metadata": {},
   "outputs": [],
   "source": []
  }
 ],
 "metadata": {
  "kernelspec": {
   "display_name": "Python 3 (ipykernel)",
   "language": "python",
   "name": "python3"
  },
  "language_info": {
   "codemirror_mode": {
    "name": "ipython",
    "version": 3
   },
   "file_extension": ".py",
   "mimetype": "text/x-python",
   "name": "python",
   "nbconvert_exporter": "python",
   "pygments_lexer": "ipython3",
   "version": "3.9.7"
  }
 },
 "nbformat": 4,
 "nbformat_minor": 5
}
