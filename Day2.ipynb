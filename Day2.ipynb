{
 "cells": [
  {
   "cell_type": "code",
   "execution_count": 2,
   "id": "fd8655bb",
   "metadata": {},
   "outputs": [
    {
     "data": {
      "text/plain": [
       "['apple', 'cherry', 'banana', 'orange']"
      ]
     },
     "execution_count": 2,
     "metadata": {},
     "output_type": "execute_result"
    }
   ],
   "source": [
    "# List and its method\n",
    "fruits=['apple','cherry','banana']\n",
    "fruits.append('orange')\n",
    "fruits"
   ]
  },
  {
   "cell_type": "code",
   "execution_count": 4,
   "id": "d1cbbd8a",
   "metadata": {},
   "outputs": [
    {
     "data": {
      "text/plain": [
       "['apple', 'banana', 'cherry', 'orange']"
      ]
     },
     "execution_count": 4,
     "metadata": {},
     "output_type": "execute_result"
    }
   ],
   "source": [
    "fruits.sort()\n",
    "fruits"
   ]
  },
  {
   "cell_type": "code",
   "execution_count": 7,
   "id": "82fe9e86",
   "metadata": {},
   "outputs": [
    {
     "data": {
      "text/plain": [
       "['orange', 'cherry', 'banana', 'apple']"
      ]
     },
     "execution_count": 7,
     "metadata": {},
     "output_type": "execute_result"
    }
   ],
   "source": [
    "fruits.reverse()\n",
    "fruits"
   ]
  },
  {
   "cell_type": "code",
   "execution_count": 8,
   "id": "a7aa086d",
   "metadata": {},
   "outputs": [
    {
     "data": {
      "text/plain": [
       "['orange', 'cherry', 'apple']"
      ]
     },
     "execution_count": 8,
     "metadata": {},
     "output_type": "execute_result"
    }
   ],
   "source": [
    "fruits.remove('banana')\n",
    "fruits"
   ]
  },
  {
   "cell_type": "code",
   "execution_count": 9,
   "id": "80962ac2",
   "metadata": {},
   "outputs": [
    {
     "data": {
      "text/plain": [
       "['orange', 'apple']"
      ]
     },
     "execution_count": 9,
     "metadata": {},
     "output_type": "execute_result"
    }
   ],
   "source": [
    "fruits.pop(1)\n",
    "fruits"
   ]
  },
  {
   "cell_type": "code",
   "execution_count": 10,
   "id": "692fda62",
   "metadata": {},
   "outputs": [
    {
     "data": {
      "text/plain": [
       "['orange', 'watermelon', 'apple']"
      ]
     },
     "execution_count": 10,
     "metadata": {},
     "output_type": "execute_result"
    }
   ],
   "source": [
    "fruits.insert(1,'watermelon')\n",
    "fruits"
   ]
  },
  {
   "cell_type": "code",
   "execution_count": 13,
   "id": "a1795261",
   "metadata": {},
   "outputs": [
    {
     "data": {
      "text/plain": [
       "2"
      ]
     },
     "execution_count": 13,
     "metadata": {},
     "output_type": "execute_result"
    }
   ],
   "source": [
    "fruits.index('apple')\n",
    "#fruits"
   ]
  },
  {
   "cell_type": "code",
   "execution_count": 4,
   "id": "aef7f1d4",
   "metadata": {},
   "outputs": [
    {
     "data": {
      "text/plain": [
       "['apple', 'cherry', 'banana', 'pineapple', 'cherry', 'Guava', 'strawberry']"
      ]
     },
     "execution_count": 4,
     "metadata": {},
     "output_type": "execute_result"
    }
   ],
   "source": [
    "fruits=['apple','cherry','banana']\n",
    "others=['pineapple','cherry','Guava','strawberry']\n",
    "fruits.extend(others)\n",
    "fruits"
   ]
  },
  {
   "cell_type": "code",
   "execution_count": 5,
   "id": "6cddab98",
   "metadata": {},
   "outputs": [
    {
     "data": {
      "text/plain": [
       "2"
      ]
     },
     "execution_count": 5,
     "metadata": {},
     "output_type": "execute_result"
    }
   ],
   "source": [
    "fruits.count('cherry')"
   ]
  },
  {
   "cell_type": "code",
   "execution_count": 6,
   "id": "c3d29af5",
   "metadata": {},
   "outputs": [
    {
     "data": {
      "text/plain": [
       "['apple', 'cherry', 'banana', 'pineapple', 'cherry', 'Guava', 'strawberry']"
      ]
     },
     "execution_count": 6,
     "metadata": {},
     "output_type": "execute_result"
    }
   ],
   "source": [
    "fruits.copy()"
   ]
  },
  {
   "cell_type": "code",
   "execution_count": 7,
   "id": "d7ed0195",
   "metadata": {},
   "outputs": [],
   "source": [
    "fruits.clear()\n"
   ]
  },
  {
   "cell_type": "code",
   "execution_count": 8,
   "id": "ebb43824",
   "metadata": {},
   "outputs": [
    {
     "data": {
      "text/plain": [
       "[]"
      ]
     },
     "execution_count": 8,
     "metadata": {},
     "output_type": "execute_result"
    }
   ],
   "source": [
    "fruits"
   ]
  },
  {
   "cell_type": "code",
   "execution_count": 9,
   "id": "65bb0085",
   "metadata": {},
   "outputs": [
    {
     "name": "stdout",
     "output_type": "stream",
     "text": [
      "Hello welocme to python\n"
     ]
    }
   ],
   "source": [
    "#String and its method\n",
    "txt=\"hello welocme to python\"\n",
    "a=txt.capitalize()\n",
    "print(a)"
   ]
  },
  {
   "cell_type": "code",
   "execution_count": 11,
   "id": "b7ecfd6b",
   "metadata": {},
   "outputs": [
    {
     "name": "stdout",
     "output_type": "stream",
     "text": [
      "2\n"
     ]
    }
   ],
   "source": [
    "txt=\"ravi is a boy,ravi play a cricket\"\n",
    "b=txt.count('ravi')\n",
    "print(b)         "
   ]
  },
  {
   "cell_type": "code",
   "execution_count": 13,
   "id": "da11b450",
   "metadata": {},
   "outputs": [
    {
     "name": "stdout",
     "output_type": "stream",
     "text": [
      "['ravi', 'is', 'a', 'boy,ravi', 'play', 'a', 'cricket']\n",
      "10\n"
     ]
    }
   ],
   "source": [
    "txt=\"ravi is a boy,ravi play a cricket\"\n",
    "b=txt.split()\n",
    "print(b) \n",
    "d=txt.index('boy')\n",
    "print(d)"
   ]
  },
  {
   "cell_type": "code",
   "execution_count": 15,
   "id": "60eb9cd0",
   "metadata": {},
   "outputs": [
    {
     "name": "stdout",
     "output_type": "stream",
     "text": [
      "True\n"
     ]
    }
   ],
   "source": [
    "txt='company12'\n",
    "e=txt.isalnum()\n",
    "print(e)\n"
   ]
  },
  {
   "cell_type": "code",
   "execution_count": 18,
   "id": "283b2ce1",
   "metadata": {},
   "outputs": [
    {
     "name": "stdout",
     "output_type": "stream",
     "text": [
      "False\n"
     ]
    }
   ],
   "source": [
    "txt='companyX'\n",
    "f=txt.isalpha()\n",
    "print(f)"
   ]
  },
  {
   "cell_type": "code",
   "execution_count": 21,
   "id": "af7b5477",
   "metadata": {},
   "outputs": [
    {
     "name": "stdout",
     "output_type": "stream",
     "text": [
      "True\n"
     ]
    }
   ],
   "source": [
    "txt='5214'\n",
    "g=txt.isdigit()\n",
    "print(g)"
   ]
  },
  {
   "cell_type": "code",
   "execution_count": 24,
   "id": "066ca42c",
   "metadata": {},
   "outputs": [
    {
     "name": "stdout",
     "output_type": "stream",
     "text": [
      "john@peter@mike\n",
      "['john', 'peter', 'mike']\n"
     ]
    }
   ],
   "source": [
    "names=['john','peter','mike']\n",
    "joined='@'.join(names)\n",
    "print(joined)\n",
    "print(names)"
   ]
  },
  {
   "cell_type": "code",
   "execution_count": 25,
   "id": "54588404",
   "metadata": {},
   "outputs": [
    {
     "name": "stdout",
     "output_type": "stream",
     "text": [
      "Hi india\n"
     ]
    }
   ],
   "source": [
    "txt='hello india'\n",
    "h=txt.replace('hello','Hi')\n",
    "print(h)"
   ]
  },
  {
   "cell_type": "code",
   "execution_count": 31,
   "id": "24fdb932",
   "metadata": {},
   "outputs": [
    {
     "data": {
      "text/plain": [
       "(True, True)"
      ]
     },
     "execution_count": 31,
     "metadata": {},
     "output_type": "execute_result"
    }
   ],
   "source": [
    "txt=\"Hello welcome to my world\"\n",
    "start=txt.startswith('Hello')\n",
    "end=txt.endswith(\"world\")\n",
    "start, end"
   ]
  },
  {
   "cell_type": "code",
   "execution_count": 35,
   "id": "e976def5",
   "metadata": {},
   "outputs": [
    {
     "name": "stdout",
     "output_type": "stream",
     "text": [
      "True\n",
      "b is greater than a\n"
     ]
    }
   ],
   "source": [
    "# python conditonal statements\n",
    "a,b=33,100\n",
    "print(b>a)\n",
    "\n",
    "if b>a:\n",
    "    print(\"b is greater than a\")"
   ]
  },
  {
   "cell_type": "code",
   "execution_count": 37,
   "id": "7cbc0c2a",
   "metadata": {},
   "outputs": [
    {
     "name": "stdout",
     "output_type": "stream",
     "text": [
      "aman score more\n"
     ]
    }
   ],
   "source": [
    "aman,vinod=80,62\n",
    "if vinod>aman:\n",
    "    print('vinod score more')\n",
    "elif aman==vinod:\n",
    "    print(\"both score equally\")\n",
    "else:\n",
    "    print(\"aman score more\")\n"
   ]
  },
  {
   "cell_type": "code",
   "execution_count": 41,
   "id": "fbeab376",
   "metadata": {},
   "outputs": [
    {
     "name": "stdout",
     "output_type": "stream",
     "text": [
      "sad he is fail\n"
     ]
    }
   ],
   "source": [
    "marks=27\n",
    "if marks>35:\n",
    "    print(\"he is pass\")\n",
    "    if marks==65:\n",
    "        print(\"he is in distiction \")\n",
    "    else:\n",
    "        print('he is in mid range')\n",
    "else:\n",
    "    print('sad he is fail')"
   ]
  },
  {
   "cell_type": "code",
   "execution_count": null,
   "id": "e72dc1f6",
   "metadata": {},
   "outputs": [],
   "source": []
  },
  {
   "cell_type": "code",
   "execution_count": null,
   "id": "eceabb64",
   "metadata": {},
   "outputs": [],
   "source": []
  }
 ],
 "metadata": {
  "kernelspec": {
   "display_name": "Python 3 (ipykernel)",
   "language": "python",
   "name": "python3"
  },
  "language_info": {
   "codemirror_mode": {
    "name": "ipython",
    "version": 3
   },
   "file_extension": ".py",
   "mimetype": "text/x-python",
   "name": "python",
   "nbconvert_exporter": "python",
   "pygments_lexer": "ipython3",
   "version": "3.9.7"
  }
 },
 "nbformat": 4,
 "nbformat_minor": 5
}
