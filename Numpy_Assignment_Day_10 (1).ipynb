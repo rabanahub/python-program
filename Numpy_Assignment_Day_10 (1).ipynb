{
 "cells": [
  {
   "cell_type": "markdown",
   "metadata": {
    "id": "v_5a6dEGYukp"
   },
   "source": [
    "# <center> Numpy Basics </center>"
   ]
  },
  {
   "cell_type": "code",
   "execution_count": 3287,
   "metadata": {
    "id": "NnhU92SsYukv"
   },
   "outputs": [],
   "source": [
    "#import numpy module with alias np\n",
    "\n",
    "import numpy as np"
   ]
  },
  {
   "cell_type": "markdown",
   "metadata": {
    "id": "onEY9HMeYuk0"
   },
   "source": [
    "We can create a NumPy ndarray object by using the array() function.\n",
    "To create an ndarray, we can pass a list, tuple or any array-like object into the array() method, and it will be converted into an ndarray:\n"
   ]
  },
  {
   "cell_type": "code",
   "execution_count": 3288,
   "metadata": {
    "id": "BCdPh0rqYuk0"
   },
   "outputs": [],
   "source": [
    "# Define a numpy array passing a list with  1,2 and 3 as elements in it\n",
    "\n",
    "A=np.array(5)"
   ]
  },
  {
   "cell_type": "code",
   "execution_count": 3289,
   "metadata": {
    "id": "up-97mFyYuk1"
   },
   "outputs": [
    {
     "data": {
      "text/plain": [
       "array(5)"
      ]
     },
     "execution_count": 3289,
     "metadata": {},
     "output_type": "execute_result"
    }
   ],
   "source": [
    "# print output\n",
    "\n",
    "A"
   ]
  },
  {
   "cell_type": "markdown",
   "metadata": {
    "id": "I5wC2n70Yuk2"
   },
   "source": [
    "## Dimensions in Arrays\n",
    "\n",
    "Create arrays of different dimentions.\n",
    "\n",
    "a=A numpy array with one single integer 10\n",
    "\n",
    "b=A numpy array passing a list having a list= [1,2,3]\n",
    "\n",
    "c=A numpy array passing nested list having [[1, 2, 3], [4, 5, 6]] as elements\n",
    "\n",
    "d=A numpy array passing nested list having [[[1, 2, 3], [4, 5, 6]], [[1, 2, 3], [4, 5, 6]]] as elements"
   ]
  },
  {
   "cell_type": "code",
   "execution_count": 3290,
   "metadata": {
    "id": "75VeuGacYuk3"
   },
   "outputs": [],
   "source": [
    "#define a,b,c and d as instructed above\n",
    "\n",
    "a =np.array(10) \n",
    "b = np.array([1,2,3]) \n",
    "c = np.array([[1,2,3],[4,5,6]]) \n",
    "d =np.array([[[1,2,3],[4,5,6]],[[1,2,3],[4,5,6]]])  \n",
    "\n"
   ]
  },
  {
   "cell_type": "markdown",
   "metadata": {
    "id": "qtUQhJgsYuk5"
   },
   "source": [
    "Are you ready to check its dimention? Use ndim attribute on each variable to check its dimention"
   ]
  },
  {
   "cell_type": "code",
   "execution_count": 3291,
   "metadata": {
    "id": "WqRlO_elYuk6"
   },
   "outputs": [
    {
     "data": {
      "text/plain": [
       "3"
      ]
     },
     "execution_count": 3291,
     "metadata": {},
     "output_type": "execute_result"
    }
   ],
   "source": [
    "#print dimentions of a,b, c and d\n",
    "np.ndim(a)\n",
    "np.ndim(b)\n",
    "np.ndim(c)\n",
    "np.ndim(d)\n",
    "\n",
    "\n"
   ]
  },
  {
   "cell_type": "markdown",
   "metadata": {
    "id": "GdfDcthEYuk7"
   },
   "source": [
    "Hey hey. Did you see! you have created 0-D,1-DeprecationWarning, 2-D and 3-D arrays.\n",
    "\n",
    "Lets print there shape as well. You can check shape using shape attribute\n",
    "\n"
   ]
  },
  {
   "cell_type": "code",
   "execution_count": 3292,
   "metadata": {
    "id": "Dbo7BMcNYuk8"
   },
   "outputs": [
    {
     "name": "stdout",
     "output_type": "stream",
     "text": [
      "()\n",
      "(3,)\n",
      "(2, 3)\n",
      "(2, 2, 3)\n"
     ]
    }
   ],
   "source": [
    "# print shape of each a,b ,c and d\n",
    "\n",
    "print(a.shape)\n",
    "print(b.shape)\n",
    "print(c.shape)\n",
    "print(d.shape)\n",
    "\n",
    "\n"
   ]
  },
  {
   "cell_type": "markdown",
   "metadata": {
    "id": "zznIHO2BYuk8"
   },
   "source": [
    "Lets check data type passed in our array. To check data type you can use dtype attribute"
   ]
  },
  {
   "cell_type": "code",
   "execution_count": 3293,
   "metadata": {
    "id": "IqR87PE-Yuk9"
   },
   "outputs": [
    {
     "data": {
      "text/plain": [
       "numpy.ndarray"
      ]
     },
     "execution_count": 3293,
     "metadata": {},
     "output_type": "execute_result"
    }
   ],
   "source": [
    "# print data type of c and d\n",
    "type(c)\n",
    "type(d)\n",
    "\n",
    "\n",
    "\n"
   ]
  },
  {
   "cell_type": "markdown",
   "metadata": {
    "id": "bvZI9gIfYuk9"
   },
   "source": [
    "Above output mean our array is having int type elements in it."
   ]
  },
  {
   "cell_type": "markdown",
   "metadata": {
    "id": "JTIMcpHZYuk9"
   },
   "source": [
    "Lets check the type of our variable. To check type of any numpy variable use type() function "
   ]
  },
  {
   "cell_type": "code",
   "execution_count": 3294,
   "metadata": {
    "id": "4XscrKR9Yuk9"
   },
   "outputs": [
    {
     "name": "stdout",
     "output_type": "stream",
     "text": [
      "int32\n",
      "int32\n"
     ]
    }
   ],
   "source": [
    "#print type of a and b variable\n",
    "print(a.dtype)\n",
    "print(b.dtype)\n",
    "\n",
    "\n",
    "\n",
    "\n",
    "\n"
   ]
  },
  {
   "cell_type": "code",
   "execution_count": 3295,
   "metadata": {
    "id": "cmEidey1Yuk9"
   },
   "outputs": [
    {
     "data": {
      "text/plain": [
       "3"
      ]
     },
     "execution_count": 3295,
     "metadata": {},
     "output_type": "execute_result"
    }
   ],
   "source": [
    "# Lets check length of array b, using len() function\n",
    "# len(b)\n",
    "len(b)"
   ]
  },
  {
   "cell_type": "markdown",
   "metadata": {
    "id": "8k-sX7zmYuk-"
   },
   "source": [
    "Bravo!You have Defined ndarray i.e numpy array in variable a nd b. Also you have successfully learned how to create numpy. "
   ]
  },
  {
   "cell_type": "code",
   "execution_count": null,
   "metadata": {
    "id": "R4ylxj2I_Xra"
   },
   "outputs": [],
   "source": []
  },
  {
   "cell_type": "markdown",
   "metadata": {
    "id": "bl8PwahHYuk-"
   },
   "source": [
    "Create two list l1 and l2 where, l1=[10,20,30] and l2=[40,50,60]\n",
    "Also define two numpy arrays l3,l4 where l3 has l1 as element and l4 has l2 as element\n"
   ]
  },
  {
   "cell_type": "code",
   "execution_count": 3296,
   "metadata": {
    "id": "-cZT6aZlYuk-"
   },
   "outputs": [],
   "source": [
    "# Define l1,l2,l3 and l4 as stated above.\n",
    "l1 = [10,20,30]\n",
    "l2 = [40,50,60]\n",
    "l3 = np.array([10,20,30])\n",
    "l4 = np.array([40,50,60])\n",
    "\n"
   ]
  },
  {
   "cell_type": "markdown",
   "metadata": {
    "id": "9muN0ZR5Yuk-"
   },
   "source": [
    "Lets multiply each elements of l1 with corresponding elements of l2\n",
    "\n",
    "Here use list comprehention to do so. Lets see how much you remember your work in other assignments.\n",
    "\n",
    "Note: use %timeit as prefix before your line of code inorder to calculate total time taken to run that line<br>\n",
    "eg. %timeit my_code"
   ]
  },
  {
   "cell_type": "code",
   "execution_count": 3297,
   "metadata": {
    "id": "Gt0o_ZSCYuk_"
   },
   "outputs": [
    {
     "name": "stdout",
     "output_type": "stream",
     "text": [
      "Resultant list is : [400, 1000, 1800]\n"
     ]
    }
   ],
   "source": [
    "#code here as instructed above\n",
    "res_list = []\n",
    "for i in range(0, len(l1)):\n",
    "    res_list.append(l1[i] * l2[i])\n",
    " \n",
    "# printing resultant list \n",
    "print (\"Resultant list is : \" + str(res_list))\n",
    "\n",
    "\n",
    "\n"
   ]
  },
  {
   "cell_type": "markdown",
   "metadata": {
    "id": "xT45pl-RYuk_"
   },
   "source": [
    "Lets mulptiply l3 and l4\n",
    "\n",
    "Note: use %timeit as prefix before your line of code inorder to calculate total time taken to run that line"
   ]
  },
  {
   "cell_type": "code",
   "execution_count": 3298,
   "metadata": {
    "id": "SceA6IrwYuk_"
   },
   "outputs": [
    {
     "name": "stdout",
     "output_type": "stream",
     "text": [
      "Resultant output array:  [ 400 1000 1800]\n"
     ]
    }
   ],
   "source": [
    "out_arr = np.multiply(l3, l4)  \n",
    "print (\"Resultant output array: \", out_arr) \n",
    "\n"
   ]
  },
  {
   "cell_type": "markdown",
   "metadata": {
    "id": "CJrqooYWYuk_"
   },
   "source": [
    "Don't worry if still your one line of code is running. Its because your system is calculating total time taken to run your code.\n",
    "\n",
    "Did you notice buddy! time taken to multiply two lists takes more time than multiplyimg two numpy array.\n",
    "Hence proved that numpy arrays are faster than lists.\n",
    "\n",
    "**Fun Fact time!:**\n",
    "\n",
    "You know in many data science interviews it is asked that what is the difference between list and array.<br>\n"
   ]
  },
  {
   "cell_type": "code",
   "execution_count": 3299,
   "metadata": {
    "id": "BnwTOtdDYulA"
   },
   "outputs": [
    {
     "data": {
      "text/plain": [
       "array([ 1,  2,  3,  4,  5,  6,  7,  8,  9, 10])"
      ]
     },
     "execution_count": 3299,
     "metadata": {},
     "output_type": "execute_result"
    }
   ],
   "source": [
    "#Create a numpy array using arange with 1 and 11 as parameter in it\n",
    "np.arange(1,11)\n",
    "\n"
   ]
  },
  {
   "cell_type": "markdown",
   "metadata": {
    "id": "QiuRfP4OYulA"
   },
   "source": [
    "This means using arrange we get evenly spaced values within a given interval. Interval? Yes you can mention interval as well as third parameter in it."
   ]
  },
  {
   "cell_type": "code",
   "execution_count": 3300,
   "metadata": {
    "id": "TDdTXBZcYulA"
   },
   "outputs": [
    {
     "data": {
      "text/plain": [
       "array([1, 3, 5, 7, 9])"
      ]
     },
     "execution_count": 3300,
     "metadata": {},
     "output_type": "execute_result"
    }
   ],
   "source": [
    "# Create an array using arange passing 1,11 and 2 as parameter in iter\n",
    "\n",
    "np.arange(1,11,2)\n"
   ]
  },
  {
   "cell_type": "code",
   "execution_count": 3301,
   "metadata": {
    "id": "IFYEePpeYulA"
   },
   "outputs": [
    {
     "data": {
      "text/plain": [
       "array([[1, 0, 0],\n",
       "       [0, 1, 0],\n",
       "       [0, 0, 1]])"
      ]
     },
     "execution_count": 3301,
     "metadata": {},
     "output_type": "execute_result"
    }
   ],
   "source": [
    "# create numpy array using eye function with 3 as passed parameter\n",
    "\n",
    "# numpy.eye(R, C = None, k = 3, dtype = type <'int'>) \n",
    "\n",
    "np.eye(3, dtype=int)\n"
   ]
  },
  {
   "cell_type": "code",
   "execution_count": 3302,
   "metadata": {
    "id": "rXpUyqTYYulD"
   },
   "outputs": [
    {
     "name": "stdout",
     "output_type": "stream",
     "text": [
      "[ 1  2  3  4  5  6  7  8  9 10 11 12 13 14 15 16]\n"
     ]
    }
   ],
   "source": [
    "# Using arange() to generate numpy array x with numbers between 1 to 16\n",
    "x=np.arange(1,17)\n",
    "print(x)\n"
   ]
  },
  {
   "cell_type": "code",
   "execution_count": 3303,
   "metadata": {
    "id": "JkQG8RyFYulE"
   },
   "outputs": [
    {
     "name": "stdout",
     "output_type": "stream",
     "text": [
      "[[ 1  2  3  4  5  6  7  8]\n",
      " [ 9 10 11 12 13 14 15 16]]\n"
     ]
    }
   ],
   "source": [
    "# Reshape x with 2 rows and 8 columns\n",
    "newarr = x.reshape(2,8)\n",
    "\n",
    "print(newarr)"
   ]
  },
  {
   "cell_type": "markdown",
   "metadata": {
    "id": "Eu-DgBCRYulE"
   },
   "source": [
    "As you can see above that our x changed into 2D matrix\n",
    "\n",
    "2. Reshaping 1-D to 3-D array\n"
   ]
  },
  {
   "cell_type": "code",
   "execution_count": 3304,
   "metadata": {
    "id": "Ue760dxYYulE"
   },
   "outputs": [
    {
     "name": "stdout",
     "output_type": "stream",
     "text": [
      "[[[ 1  2]\n",
      "  [ 3  4]]\n",
      "\n",
      " [[ 5  6]\n",
      "  [ 7  8]]\n",
      "\n",
      " [[ 9 10]\n",
      "  [11 12]]\n",
      "\n",
      " [[13 14]\n",
      "  [15 16]]]\n"
     ]
    }
   ],
   "source": [
    "# reshaoe x with dimension that will have 2 arrays that contains 4 arrays, each with 2 elements:\n",
    "\n",
    "newarr1 = x.reshape(4,2,2)\n",
    "\n",
    "print(newarr1)\n"
   ]
  },
  {
   "cell_type": "code",
   "execution_count": 3305,
   "metadata": {
    "id": "xlfI-eC2YulE"
   },
   "outputs": [
    {
     "name": "stdout",
     "output_type": "stream",
     "text": [
      "[[ 1  2  3  4]\n",
      " [ 5  6  7  8]\n",
      " [ 9 10 11 12]\n",
      " [13 14 15 16]]\n"
     ]
    }
   ],
   "source": [
    "# Use unknown dimention to reshape x into 2-D numpy array with shape 4*4\n",
    "\n",
    "newarr2 = x.reshape(4,4)\n",
    "\n",
    "print(newarr2)\n"
   ]
  },
  {
   "cell_type": "code",
   "execution_count": 3306,
   "metadata": {
    "id": "NDRDRGkUYulE"
   },
   "outputs": [
    {
     "name": "stdout",
     "output_type": "stream",
     "text": [
      "[[[ 1]\n",
      "  [ 2]\n",
      "  [ 3]\n",
      "  [ 4]]\n",
      "\n",
      " [[ 5]\n",
      "  [ 6]\n",
      "  [ 7]\n",
      "  [ 8]]\n",
      "\n",
      " [[ 9]\n",
      "  [10]\n",
      "  [11]\n",
      "  [12]]\n",
      "\n",
      " [[13]\n",
      "  [14]\n",
      "  [15]\n",
      "  [16]]]\n"
     ]
    }
   ],
   "source": [
    "# Use unknown dimention to  reshape x into 3-D numpy array with 2 arrays that contains 4 arrays\n",
    "\n",
    "y=x.reshape(4,4,-1)\n",
    "print (y)\n",
    "\n"
   ]
  },
  {
   "cell_type": "code",
   "execution_count": 3307,
   "metadata": {
    "id": "iHuEimtTYulF"
   },
   "outputs": [
    {
     "name": "stdout",
     "output_type": "stream",
     "text": [
      "[ 1  2  3  4  5  6  7  8  9 10 11 12 13 14 15 16]\n"
     ]
    }
   ],
   "source": [
    "# Flattening y\n",
    "z=x.reshape(-1)\n",
    "print(z)\n",
    "\n",
    "\n"
   ]
  },
  {
   "cell_type": "code",
   "execution_count": 3308,
   "metadata": {
    "id": "liRM5zN0YulF"
   },
   "outputs": [
    {
     "name": "stdout",
     "output_type": "stream",
     "text": [
      "[0, 2, 4, 6, 8, 10, 12, 14, 16]\n"
     ]
    }
   ],
   "source": [
    "# Create an array a with all even numbers between 1 to 17\n",
    "a = []\n",
    "for i in range(0,17,2):\n",
    "    a.append(i)\n",
    "print(a)\n",
    "\n",
    "\n",
    "# print a\n"
   ]
  },
  {
   "cell_type": "code",
   "execution_count": 3309,
   "metadata": {
    "id": "GysmjjOQYulF"
   },
   "outputs": [
    {
     "name": "stdout",
     "output_type": "stream",
     "text": [
      "4\n"
     ]
    }
   ],
   "source": [
    "# Get third element in array a\n",
    "print(a[2])"
   ]
  },
  {
   "cell_type": "code",
   "execution_count": 3310,
   "metadata": {
    "id": "QJDw7E2VYulF"
   },
   "outputs": [
    {
     "name": "stdout",
     "output_type": "stream",
     "text": [
      "4\n",
      "8\n",
      "12\n"
     ]
    }
   ],
   "source": [
    "#Print 3rd, 5th, and 7th element in array a\n",
    "print(a[2])\n",
    "print(a[4])\n",
    "print(a[6])\n",
    "\n"
   ]
  },
  {
   "cell_type": "markdown",
   "metadata": {
    "id": "6FauyJCQYulF"
   },
   "source": [
    "Lets check the same for 2 D array"
   ]
  },
  {
   "cell_type": "code",
   "execution_count": 3311,
   "metadata": {
    "id": "yomRzY6aYulF"
   },
   "outputs": [
    {
     "name": "stdout",
     "output_type": "stream",
     "text": [
      "[[1 2 3]\n",
      " [4 5 6]\n",
      " [7 8 9]]\n"
     ]
    }
   ],
   "source": [
    "# Define an array 2-D a with [[1,2,3],[4,5,6],[7,8,9]] as its elements.\n",
    "a = np.array([[1,2,3],[4,5,6],[7,8,9]])\n",
    "print(a)\n"
   ]
  },
  {
   "cell_type": "code",
   "execution_count": 3312,
   "metadata": {
    "id": "VTGpLidrYulF"
   },
   "outputs": [
    {
     "data": {
      "text/plain": [
       "array([9])"
      ]
     },
     "execution_count": 3312,
     "metadata": {},
     "output_type": "execute_result"
    }
   ],
   "source": [
    "# print the 3rd element from the 3rd row of a\n",
    "a[2,2:3]\n"
   ]
  },
  {
   "cell_type": "markdown",
   "metadata": {
    "id": "-fPw_4ZBYulF"
   },
   "source": [
    "Well done!\n",
    "\n",
    "Now lets check indexing for 3 D array "
   ]
  },
  {
   "cell_type": "code",
   "execution_count": 3313,
   "metadata": {
    "id": "VISPaw3PYulG"
   },
   "outputs": [
    {
     "name": "stdout",
     "output_type": "stream",
     "text": [
      "[1 2 3]\n"
     ]
    }
   ],
   "source": [
    "# Define an array b again with [[[1, 2, 3], [4, 5, 6]], [[7, 8, 9], [10, 11, 12]]] as its elements.\n",
    "# b = np.array([[[1, 2, 3], [4, 5, 6]], [[7, 8, 9], [10, 11, 12]]])\n",
    "print(b)\n",
    "\n"
   ]
  },
  {
   "cell_type": "code",
   "execution_count": 3314,
   "metadata": {
    "id": "UrFj656mYulG"
   },
   "outputs": [
    {
     "data": {
      "text/plain": [
       "array([9])"
      ]
     },
     "execution_count": 3314,
     "metadata": {},
     "output_type": "execute_result"
    }
   ],
   "source": [
    "# Print 3rd element from 2nd list which is 1st list in nested list passed. Confusing right? 'a' have nested array.Understand the braket differences.\n",
    "\n",
    "a[2,2:3]\n"
   ]
  },
  {
   "cell_type": "code",
   "execution_count": 3315,
   "metadata": {
    "id": "9ZadW42fYulG"
   },
   "outputs": [
    {
     "data": {
      "text/plain": [
       "array([ 1,  2,  3,  4,  5,  6,  7,  8,  9, 10, 11, 12])"
      ]
     },
     "execution_count": 3315,
     "metadata": {},
     "output_type": "execute_result"
    }
   ],
   "source": [
    "# Create 1D array\n",
    "\n",
    "arr=np.array([1,2,3,4,5,6,7,8,9,10,11,12])\n",
    "arr\n",
    "\n",
    "\n"
   ]
  },
  {
   "cell_type": "code",
   "execution_count": 3316,
   "metadata": {
    "id": "fm2dtL6EYulG"
   },
   "outputs": [
    {
     "data": {
      "text/plain": [
       "array([2, 3, 4, 5])"
      ]
     },
     "execution_count": 3316,
     "metadata": {},
     "output_type": "execute_result"
    }
   ],
   "source": [
    "# Slice elements from 1st to 5th element from the following array:\n",
    "\n",
    "arr[1:5]\n",
    "\n"
   ]
  },
  {
   "cell_type": "markdown",
   "metadata": {
    "id": "ghqluYgMYulG"
   },
   "source": [
    "Note: The result includes the start index, but excludes the end index.\n",
    "\n"
   ]
  },
  {
   "cell_type": "code",
   "execution_count": 3317,
   "metadata": {
    "id": "g4uVBo1oYulH"
   },
   "outputs": [
    {
     "data": {
      "text/plain": [
       "array([ 6,  7,  8,  9, 10, 11, 12])"
      ]
     },
     "execution_count": 3317,
     "metadata": {},
     "output_type": "execute_result"
    }
   ],
   "source": [
    "# Slice elements from index 5 to the end of the array:\n",
    "\n",
    "arr[5:]\n"
   ]
  },
  {
   "cell_type": "code",
   "execution_count": 3318,
   "metadata": {
    "id": "1t4V3OSaYulH"
   },
   "outputs": [
    {
     "data": {
      "text/plain": [
       "array([1, 2, 3, 4, 5])"
      ]
     },
     "execution_count": 3318,
     "metadata": {},
     "output_type": "execute_result"
    }
   ],
   "source": [
    "# Slice elements from the beginning to index 5 (not included):\n",
    "\n",
    "arr[:5]\n",
    "\n"
   ]
  },
  {
   "cell_type": "markdown",
   "metadata": {
    "id": "_sk9yNamYulH"
   },
   "source": [
    "**STEP**\n",
    "\n",
    "Use the step value to determine the step of the slicing:"
   ]
  },
  {
   "cell_type": "code",
   "execution_count": 3319,
   "metadata": {
    "id": "1OXANncfYulH"
   },
   "outputs": [
    {
     "name": "stdout",
     "output_type": "stream",
     "text": [
      "[2 4 6]\n"
     ]
    }
   ],
   "source": [
    "# Print every other element from index 1 to index 7:\n",
    "\n",
    "print(arr[1:7:2])"
   ]
  },
  {
   "cell_type": "markdown",
   "metadata": {
    "id": "mpk1-Nd2YulH"
   },
   "source": [
    "Did you see? using step you were able to get alternate elements within specified index numbers."
   ]
  },
  {
   "cell_type": "code",
   "execution_count": 3320,
   "metadata": {
    "id": "HxPLcXudYulH"
   },
   "outputs": [
    {
     "data": {
      "text/plain": [
       "array([ 2,  4,  6,  8, 10])"
      ]
     },
     "execution_count": 3320,
     "metadata": {},
     "output_type": "execute_result"
    }
   ],
   "source": [
    "# Return every other element from the entire array arr:\n",
    "\n",
    "arr[1:11:2]\n"
   ]
  },
  {
   "cell_type": "markdown",
   "metadata": {
    "id": "d3m3TAVKYulH"
   },
   "source": [
    "well done!\n",
    "\n",
    "Lets do some slicing on 2-D array also. We already have 'a' as our 2-D array. We will use it here.\n",
    "\n",
    "**Array slicing in 2-D array.**"
   ]
  },
  {
   "cell_type": "code",
   "execution_count": 3321,
   "metadata": {
    "id": "rPVvZ707YulI"
   },
   "outputs": [],
   "source": [
    "# Print array a\n",
    "\n",
    "a = np.array([[1,2,3],[4,5,6]]) \n"
   ]
  },
  {
   "cell_type": "code",
   "execution_count": 3322,
   "metadata": {
    "id": "uGHClMHiYulI"
   },
   "outputs": [
    {
     "data": {
      "text/plain": [
       "array([[4, 5, 6]])"
      ]
     },
     "execution_count": 3322,
     "metadata": {},
     "output_type": "execute_result"
    }
   ],
   "source": [
    "# From the third element, slice elements from index 1 to index 5 (not included) from array 'a'\n",
    "\n",
    "a[1:5:3]\n"
   ]
  },
  {
   "cell_type": "code",
   "execution_count": 3323,
   "metadata": {
    "id": "mApmbts7YulI"
   },
   "outputs": [
    {
     "data": {
      "text/plain": [
       "[3, 6]"
      ]
     },
     "execution_count": 3323,
     "metadata": {},
     "output_type": "execute_result"
    }
   ],
   "source": [
    "# In array 'a' print index 2 from all the elements :\n",
    "\n",
    "result = [i[2] for i in a]\n",
    "result\n"
   ]
  },
  {
   "cell_type": "code",
   "execution_count": 3324,
   "metadata": {
    "id": "XupmT4oLYulI"
   },
   "outputs": [
    {
     "data": {
      "text/plain": [
       "array([[1, 2, 3],\n",
       "       [4, 5, 6]])"
      ]
     },
     "execution_count": 3324,
     "metadata": {},
     "output_type": "execute_result"
    }
   ],
   "source": [
    "# From all the elements in 'a', slice index 1 till end, this will return a 2-D array:\n",
    "\n",
    "\n",
    "a[0:]"
   ]
  },
  {
   "cell_type": "markdown",
   "metadata": {
    "id": "3-YDc-LnYulI"
   },
   "source": [
    "Hurray! You have learned Slicing in Numpy array. Now you know to access any numpy array."
   ]
  },
  {
   "cell_type": "markdown",
   "metadata": {
    "id": "kCiQoJ7DYulI"
   },
   "source": [
    "## Numpy copy vs view"
   ]
  },
  {
   "cell_type": "code",
   "execution_count": 3325,
   "metadata": {
    "id": "qMAPlnpnYulI"
   },
   "outputs": [],
   "source": [
    "x1= np.array([1,2,3,4,5,6])\n",
    "\n",
    "\n"
   ]
  },
  {
   "cell_type": "code",
   "execution_count": 3326,
   "metadata": {
    "id": "Fjjpvmw4YulI"
   },
   "outputs": [],
   "source": [
    "# assign x2 = x1\n",
    "\n",
    "x2=x1.copy()\n",
    "\n"
   ]
  },
  {
   "cell_type": "code",
   "execution_count": 3327,
   "metadata": {
    "id": "CZ8h9KxSYulI"
   },
   "outputs": [
    {
     "name": "stdout",
     "output_type": "stream",
     "text": [
      "[1 2 3 4 5 6]\n",
      "[1 2 3 4 5 6]\n"
     ]
    }
   ],
   "source": [
    "#print x1 and x2\n",
    "\n",
    "print(x1)\n",
    "print(x2)\n"
   ]
  },
  {
   "cell_type": "markdown",
   "metadata": {
    "id": "CAOn1lSVYulI"
   },
   "source": [
    "Ok now you have seen that both of them are same "
   ]
  },
  {
   "cell_type": "code",
   "execution_count": 3328,
   "metadata": {
    "id": "H12TCKrSYulJ"
   },
   "outputs": [],
   "source": [
    "# change 1st element of x2 as 10\n",
    "\n",
    "x2[1]=10\n"
   ]
  },
  {
   "cell_type": "code",
   "execution_count": 3329,
   "metadata": {
    "id": "jO5qSqZVYulJ"
   },
   "outputs": [
    {
     "name": "stdout",
     "output_type": "stream",
     "text": [
      "[1 2 3 4 5 6]\n",
      "[ 1 10  3  4  5  6]\n"
     ]
    }
   ],
   "source": [
    "#Again print x1 and x2\n",
    "print(x1)\n",
    "print(x2)\n",
    "\n",
    "\n"
   ]
  },
  {
   "cell_type": "code",
   "execution_count": 3330,
   "metadata": {
    "id": "wruaMhObYulJ"
   },
   "outputs": [
    {
     "name": "stdout",
     "output_type": "stream",
     "text": [
      "False\n"
     ]
    }
   ],
   "source": [
    "# Check memory share between x1 and x2\n",
    "\n",
    "print(np.shares_memory(x1, x2))"
   ]
  },
  {
   "cell_type": "markdown",
   "metadata": {
    "id": "8FfiAWw_YulJ"
   },
   "source": [
    "Hey It's True they both share memory\n",
    "\n",
    "Shall we try **view()** function also likwise."
   ]
  },
  {
   "cell_type": "code",
   "execution_count": 3331,
   "metadata": {
    "id": "ylweEJUtYulJ"
   },
   "outputs": [],
   "source": [
    "# Create a view of x1 and store it in x3.\n",
    "x3 = x1.view()\n"
   ]
  },
  {
   "cell_type": "code",
   "execution_count": 3332,
   "metadata": {
    "id": "La-iF23VYulJ"
   },
   "outputs": [
    {
     "name": "stdout",
     "output_type": "stream",
     "text": [
      "True\n"
     ]
    }
   ],
   "source": [
    "# Again check memory share between x1 and x3\n",
    "\n",
    "print(np.shares_memory(x1, x3))\n"
   ]
  },
  {
   "cell_type": "markdown",
   "metadata": {
    "id": "vkE_1h-5YulJ"
   },
   "source": [
    "Woh! simple assignment is similar to view. That means \n",
    "The view does not own the data and any changes made to the view will affect the original array, and any changes made to the original array will affect the view.\n",
    "\n",
    "Don't agree? ok lets change x3 and see if original array i.e. x1 also changes"
   ]
  },
  {
   "cell_type": "code",
   "execution_count": 3333,
   "metadata": {
    "id": "34UnXXvwYulJ"
   },
   "outputs": [],
   "source": [
    "#Change 1st element of x3=100\n",
    "\n",
    "x3[1]=100"
   ]
  },
  {
   "cell_type": "code",
   "execution_count": 3334,
   "metadata": {
    "id": "p64U7WsGYulJ"
   },
   "outputs": [
    {
     "name": "stdout",
     "output_type": "stream",
     "text": [
      "[  1 100   3   4   5   6]\n",
      "[  1 100   3   4   5   6]\n"
     ]
    }
   ],
   "source": [
    "#print x1 and x3 to check if changes reflected in both\n",
    "\n",
    "print(x1)\n",
    "print(x3)\n",
    "\n"
   ]
  },
  {
   "cell_type": "markdown",
   "metadata": {
    "id": "aPgZUErOYulK"
   },
   "source": [
    "Now its proved.\n",
    "\n",
    "Lets see how **Copy()** function works"
   ]
  },
  {
   "cell_type": "code",
   "execution_count": 3335,
   "metadata": {
    "id": "AB_dXmMrYulK"
   },
   "outputs": [],
   "source": [
    "# Now create an array x4 which is copy of x1\n",
    "\n",
    "x4=x1.copy()\n",
    "\n"
   ]
  },
  {
   "cell_type": "code",
   "execution_count": 3336,
   "metadata": {
    "id": "8_Ub7cuZYulK"
   },
   "outputs": [],
   "source": [
    "# Change the last element of x4 as 900\n",
    "\n",
    "\n",
    "x4[-1]=900\n"
   ]
  },
  {
   "cell_type": "code",
   "execution_count": 3337,
   "metadata": {
    "id": "xEUDBraHYulK"
   },
   "outputs": [
    {
     "name": "stdout",
     "output_type": "stream",
     "text": [
      "[  1 100   3   4   5   6]\n",
      "[  1 100   3   4   5 900]\n"
     ]
    }
   ],
   "source": [
    "# print both x1 and x4 to check if changes reflected in both\n",
    "\n",
    "print(x1)\n",
    "print(x4)\n",
    "\n"
   ]
  },
  {
   "cell_type": "markdown",
   "metadata": {
    "id": "uMfFQMlNYulK"
   },
   "source": [
    "Hey! such an intresting output. You noticed buddy! your original array didn't get changed on change of its copy ie. x4.\n",
    "\n",
    "Still not convinced? Ok lets see if they both share memory or not"
   ]
  },
  {
   "cell_type": "code",
   "execution_count": 3338,
   "metadata": {
    "id": "VZbJx19hYulK"
   },
   "outputs": [
    {
     "name": "stdout",
     "output_type": "stream",
     "text": [
      "False\n"
     ]
    }
   ],
   "source": [
    "#Check memory share between x1 and x4\n",
    "\n",
    "print(np.shares_memory(x1, x4))\n"
   ]
  },
  {
   "cell_type": "markdown",
   "metadata": {
    "id": "1vgtMyk8YulM"
   },
   "source": [
    "**hstack vs vstack function**\n",
    "\n",
    "\n",
    "Stacking is same as concatenation, the only difference is that stacking is done along a new axis.\n",
    "\n",
    "NumPy provides a helper function: \n",
    "\n",
    "1. hstack() to stack along rows.\n",
    "2. vstack()  to stack along columns"
   ]
  },
  {
   "cell_type": "code",
   "execution_count": 3339,
   "metadata": {
    "id": "8iXSmEsmYulM"
   },
   "outputs": [],
   "source": [
    "# stack x1 and x4 along columns.\n",
    "\n"
   ]
  },
  {
   "cell_type": "code",
   "execution_count": 3340,
   "metadata": {
    "id": "VQpItcdCYulM"
   },
   "outputs": [],
   "source": [
    "#stack x1 and x4 along rows\n",
    "\n"
   ]
  },
  {
   "cell_type": "markdown",
   "metadata": {
    "id": "YJD_N7B_YulM"
   },
   "source": [
    "We hope now you saw the difference between them.\n",
    "\n",
    "Fun fact! you can even use concatenate() function to join 2 arrays along with the axis. If axis is not explicitly passed, it is taken as 0 ie. along column\n",
    "\n",
    "Lets try this function as well"
   ]
  },
  {
   "cell_type": "code",
   "execution_count": 3341,
   "metadata": {
    "id": "P2SNMvTaYulM"
   },
   "outputs": [
    {
     "name": "stdout",
     "output_type": "stream",
     "text": [
      "[1 2 3 4 5 6]\n"
     ]
    }
   ],
   "source": [
    "arr1= np.array([1,2,3])\n",
    "\n",
    "arr2 = np.array([4,5,6])\n",
    "\n",
    "\n",
    "##join arr1 and arr2 along rows using concatenate() function\n",
    "result1=np.hstack((arr1,arr2))\n",
    "print(result1)\n",
    "\n",
    "\n"
   ]
  },
  {
   "cell_type": "code",
   "execution_count": 3342,
   "metadata": {
    "id": "dbf1xSfeYulN"
   },
   "outputs": [
    {
     "name": "stdout",
     "output_type": "stream",
     "text": [
      "[[1 2 3]\n",
      " [4 5 6]]\n"
     ]
    }
   ],
   "source": [
    "##join arr1 and arr2 along columns using concatenate() function\n",
    "\n",
    "result2=np.vstack((arr1,arr2))\n",
    "\n",
    "print(result2)\n"
   ]
  },
  {
   "cell_type": "markdown",
   "metadata": {
    "id": "WKy9Lu4vYulN"
   },
   "source": [
    "## Adding, Insert and delete Numpy array"
   ]
  },
  {
   "cell_type": "markdown",
   "metadata": {
    "id": "_W4bZ70AYulN"
   },
   "source": [
    "You can also add 2 arrays using append() function also. This function appends values to end of array\n",
    "\n",
    "Lets see how"
   ]
  },
  {
   "cell_type": "code",
   "execution_count": 3343,
   "metadata": {
    "id": "yC1yIKfPYulN"
   },
   "outputs": [
    {
     "name": "stdout",
     "output_type": "stream",
     "text": [
      "[1 2 3 4 5 6]\n"
     ]
    }
   ],
   "source": [
    "# append arr2 to arr1\n",
    "\n",
    "print(np.append(arr1,arr2))"
   ]
  },
  {
   "cell_type": "markdown",
   "metadata": {
    "id": "Jb4EPxL4YulN"
   },
   "source": [
    "Lets use insert() function which Inserts values into array before specified index value"
   ]
  },
  {
   "cell_type": "code",
   "execution_count": 3344,
   "metadata": {
    "id": "2pF_KctFYulN"
   },
   "outputs": [
    {
     "name": "stdout",
     "output_type": "stream",
     "text": [
      "[  1 100   3   1 100   3   4   5 900   4   5   6]\n"
     ]
    }
   ],
   "source": [
    "# Inserts values into array x1 before index 4 with elements of x4\n",
    "\n",
    "print(np.insert(x1,3,x4))\n",
    "#a = geek.insert(arr, 1, 9)"
   ]
  },
  {
   "cell_type": "markdown",
   "metadata": {
    "id": "uTDcvWAPYulN"
   },
   "source": [
    "You can see in above output we have inserted all the elements of x4 before index 4 in array x1."
   ]
  },
  {
   "cell_type": "code",
   "execution_count": 3345,
   "metadata": {
    "id": "btEqORsVYulN"
   },
   "outputs": [
    {
     "name": "stdout",
     "output_type": "stream",
     "text": [
      "[1 3 4 5 6]\n"
     ]
    }
   ],
   "source": [
    "# delete 2nd element from array x2\n",
    "\n",
    "print(np.delete(x2,1))"
   ]
  },
  {
   "cell_type": "markdown",
   "metadata": {
    "id": "HcSC-kfxYulO"
   },
   "source": [
    "Did you see? 2 value is deleted from x2 which was at index position 2"
   ]
  },
  {
   "cell_type": "markdown",
   "metadata": {
    "id": "3XDGaMkZYulS"
   },
   "source": [
    "Good Job learner! "
   ]
  },
  {
   "cell_type": "code",
   "execution_count": null,
   "metadata": {
    "id": "CSpHyauaC9Y4"
   },
   "outputs": [],
   "source": []
  }
 ],
 "metadata": {
  "colab": {
   "provenance": []
  },
  "kernelspec": {
   "display_name": "base",
   "language": "python",
   "name": "python3"
  },
  "language_info": {
   "codemirror_mode": {
    "name": "ipython",
    "version": 3
   },
   "file_extension": ".py",
   "mimetype": "text/x-python",
   "name": "python",
   "nbconvert_exporter": "python",
   "pygments_lexer": "ipython3",
   "version": "3.9.7"
  }
 },
 "nbformat": 4,
 "nbformat_minor": 0
}
