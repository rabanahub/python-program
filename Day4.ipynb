{
 "cells": [
  {
   "cell_type": "code",
   "execution_count": 166,
   "id": "c419264a-c7a7-47a4-b23b-164287bcc011",
   "metadata": {},
   "outputs": [
    {
     "name": "stdout",
     "output_type": "stream",
     "text": [
      "('apple', 'banana', 'cherry')\n"
     ]
    }
   ],
   "source": [
    "# tuple and its method      #standard method\n",
    "fruits=('apple','banana','cherry')\n",
    "print(fruits)\n"
   ]
  },
  {
   "cell_type": "code",
   "execution_count": 167,
   "id": "7d9c51ad-45d4-49fe-b4a4-4595628c260f",
   "metadata": {},
   "outputs": [
    {
     "name": "stdout",
     "output_type": "stream",
     "text": [
      "('apple', 'banana', 'cherry', 'apple')\n"
     ]
    }
   ],
   "source": [
    "fruits=('apple','banana','cherry','apple')      #allow duplication\n",
    "print(fruits)"
   ]
  },
  {
   "cell_type": "code",
   "execution_count": 168,
   "id": "6d9b1b68-e944-43cd-b714-7bf59e8e6bed",
   "metadata": {},
   "outputs": [
    {
     "data": {
      "text/plain": [
       "2"
      ]
     },
     "execution_count": 168,
     "metadata": {},
     "output_type": "execute_result"
    }
   ],
   "source": [
    "#count method\n",
    "num=[1,2,3,4,5,6,7,8,5]\n",
    "num.count(5)"
   ]
  },
  {
   "cell_type": "code",
   "execution_count": 169,
   "id": "04f6f2e6-b859-4bb3-8a65-3cf09d56f1a2",
   "metadata": {},
   "outputs": [
    {
     "data": {
      "text/plain": [
       "3"
      ]
     },
     "execution_count": 169,
     "metadata": {},
     "output_type": "execute_result"
    }
   ],
   "source": [
    "#index method\n",
    "num=[1,2,3,4,5,6,7,8,5]\n",
    "num.index(4)"
   ]
  },
  {
   "cell_type": "code",
   "execution_count": 170,
   "id": "3ca3eb7c-b24b-4fe4-a2ff-9ffa232abd5f",
   "metadata": {},
   "outputs": [
    {
     "data": {
      "text/plain": [
       "1"
      ]
     },
     "execution_count": 170,
     "metadata": {},
     "output_type": "execute_result"
    }
   ],
   "source": [
    "#min and max method\n",
    "num=[1,2,3,4,5,6,7,8,5]\n",
    "max(num)\n",
    "min (num)"
   ]
  },
  {
   "cell_type": "code",
   "execution_count": 171,
   "id": "8f80e564",
   "metadata": {},
   "outputs": [
    {
     "name": "stdout",
     "output_type": "stream",
     "text": [
      "{'brand': 'Ford', 'color': 'white'}\n"
     ]
    }
   ],
   "source": [
    "#update method\n",
    "car.update({\"color\":\"white\"})\n",
    "print(car)"
   ]
  },
  {
   "cell_type": "code",
   "execution_count": 172,
   "id": "3f898a2c",
   "metadata": {},
   "outputs": [
    {
     "name": "stdout",
     "output_type": "stream",
     "text": [
      "{}\n"
     ]
    }
   ],
   "source": [
    "#clear method\n",
    "car.clear()\n",
    "print(car)"
   ]
  },
  {
   "cell_type": "code",
   "execution_count": 173,
   "id": "73e2294b",
   "metadata": {},
   "outputs": [
    {
     "name": "stdout",
     "output_type": "stream",
     "text": [
      "{'brand': 'Ford', 'year': 1964}\n",
      "{'brand': 'Ford'}\n"
     ]
    }
   ],
   "source": [
    "# dictionary\n",
    "car={'brand':'Ford','model':'Mustang','year':1964}\n",
    "# get method\n",
    "car.get('model')\n",
    "# item method\n",
    "car.items()\n",
    "car.keys()\n",
    "car.values()\n",
    "\n",
    "# pop method\n",
    "car.pop('model')\n",
    "print(car)\n",
    "\n",
    "# popitem method\n",
    "car.popitem()\n",
    "print(car)\n"
   ]
  },
  {
   "cell_type": "code",
   "execution_count": 174,
   "id": "dd735e34",
   "metadata": {},
   "outputs": [
    {
     "name": "stdout",
     "output_type": "stream",
     "text": [
      "{'apple', 'banana', 'cherry'}\n"
     ]
    }
   ],
   "source": [
    "#set and its method\n",
    "fruits={'apple','banana','cherry'}\n",
    "print(fruits)"
   ]
  },
  {
   "cell_type": "code",
   "execution_count": 175,
   "id": "97d9024a",
   "metadata": {},
   "outputs": [
    {
     "name": "stdout",
     "output_type": "stream",
     "text": [
      "{'apple', 'banana', 'orange', 'cherry'}\n",
      "{'banana', 'orange', 'cherry'}\n",
      "{'orange', 'cherry'}\n"
     ]
    }
   ],
   "source": [
    "#add\n",
    "fruits.add('orange')\n",
    "print(fruits)\n",
    "\n",
    "#pop\n",
    "fruits.pop()\n",
    "print(fruits)\n",
    "\n",
    "#remove\n",
    "fruits.remove('banana')\n",
    "print(fruits)\n",
    "\n",
    "\n"
   ]
  },
  {
   "cell_type": "code",
   "execution_count": 176,
   "id": "faf49e1a",
   "metadata": {},
   "outputs": [
    {
     "name": "stdout",
     "output_type": "stream",
     "text": [
      "{'cheery', 'banana'}\n",
      "{'google', 'microsoft'}\n",
      "{'apple'}\n",
      "{'google', 'banana', 'cheery', 'apple', 'microsoft'}\n",
      "{'google', 'banana', 'cheery', 'apple', 'microsoft'}\n"
     ]
    }
   ],
   "source": [
    "x={'apple','banana','cheery'}\n",
    "y={'google','microsoft','apple'}\n",
    "\n",
    "# difference\n",
    "print(x.difference(y))\n",
    "print(y.difference(x))\n",
    "\n",
    "#intersection\n",
    "print(x.intersection(y))\n",
    "\n",
    "#union\n",
    "print(x.union(y))\n",
    "\n",
    "#update\n",
    "x.update(y)\n",
    "print(x)\n",
    "\n"
   ]
  }
 ],
 "metadata": {
  "kernelspec": {
   "display_name": "base",
   "language": "python",
   "name": "python3"
  },
  "language_info": {
   "codemirror_mode": {
    "name": "ipython",
    "version": 3
   },
   "file_extension": ".py",
   "mimetype": "text/x-python",
   "name": "python",
   "nbconvert_exporter": "python",
   "pygments_lexer": "ipython3",
   "version": "3.9.7"
  }
 },
 "nbformat": 4,
 "nbformat_minor": 5
}
