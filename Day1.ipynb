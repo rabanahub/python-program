{
 "cells": [
  {
   "cell_type": "code",
   "execution_count": 68,
   "id": "c9cee9ea",
   "metadata": {},
   "outputs": [
    {
     "name": "stdout",
     "output_type": "stream",
     "text": [
      "Rabana\n"
     ]
    }
   ],
   "source": [
    "name='Rabana'\n",
    "print(name)"
   ]
  },
  {
   "cell_type": "code",
   "execution_count": null,
   "id": "8b401454",
   "metadata": {},
   "outputs": [],
   "source": []
  },
  {
   "cell_type": "code",
   "execution_count": 69,
   "id": "f3e8752d",
   "metadata": {},
   "outputs": [
    {
     "data": {
      "text/plain": [
       "{12, 3.14, 'raj'}"
      ]
     },
     "execution_count": 69,
     "metadata": {},
     "output_type": "execute_result"
    }
   ],
   "source": [
    "student1=['raj',12,3.14]    #list-can modify\n",
    "#type(student1)\n",
    "student2=('raj',12,3.14)\n",
    "\n",
    "type(student2)              #tuple - cannot modify\n",
    "\n",
    "student3={'raj',12,3.14}\n",
    "student3                    #random output\n"
   ]
  },
  {
   "cell_type": "code",
   "execution_count": 70,
   "id": "e74841f4",
   "metadata": {},
   "outputs": [
    {
     "data": {
      "text/plain": [
       "<function dict.values>"
      ]
     },
     "execution_count": 70,
     "metadata": {},
     "output_type": "execute_result"
    }
   ],
   "source": [
    "student4={'name':'Ravi','age':25,'city':'pune'}\n",
    "student4\n",
    "\n",
    "#type(student3)\n",
    "student4.values"
   ]
  },
  {
   "cell_type": "code",
   "execution_count": 71,
   "id": "a2e658c4",
   "metadata": {},
   "outputs": [
    {
     "data": {
      "text/plain": [
       "False"
      ]
     },
     "execution_count": 71,
     "metadata": {},
     "output_type": "execute_result"
    }
   ],
   "source": [
    "#bool(3)\n",
    "bool(0)"
   ]
  },
  {
   "cell_type": "code",
   "execution_count": 72,
   "id": "2c5d8051",
   "metadata": {},
   "outputs": [
    {
     "name": "stdout",
     "output_type": "stream",
     "text": [
      "8\n",
      "-2\n",
      "15\n",
      "0.6\n",
      "3\n",
      "243\n"
     ]
    }
   ],
   "source": [
    "# python poerators\n",
    "#Arithimetic operators(+,-,*,/,%,**)\n",
    "x=3\n",
    "y=5\n",
    "print(x+y)\n",
    "print(x-y)\n",
    "print(x*y)\n",
    "print(x/y)\n",
    "print(x%y)\n",
    "print(x**y)"
   ]
  },
  {
   "cell_type": "code",
   "execution_count": 73,
   "id": "3ae29da3",
   "metadata": {},
   "outputs": [
    {
     "name": "stdout",
     "output_type": "stream",
     "text": [
      "25\n"
     ]
    }
   ],
   "source": [
    "#Assignment operators(=,=+,-=,/=,%=,**=)\n",
    "x=3\n",
    "y=5\n",
    "#print(x=y) \n",
    "x =+ y\n",
    "x *= y\n",
    "#print(x=-y)\n",
    "print(x)\n",
    "\n",
    "\n",
    "\n",
    " \n"
   ]
  },
  {
   "cell_type": "code",
   "execution_count": 74,
   "id": "1123da58",
   "metadata": {},
   "outputs": [
    {
     "name": "stdout",
     "output_type": "stream",
     "text": [
      "False True False True True False\n"
     ]
    },
    {
     "data": {
      "text/plain": [
       "False"
      ]
     },
     "execution_count": 74,
     "metadata": {},
     "output_type": "execute_result"
    }
   ],
   "source": [
    "# Comparision operators\n",
    "print(x==y,x!=y,x<=y,x>=y,x>y,x<y)\n",
    "x,y=5,7\n",
    "x>y"
   ]
  },
  {
   "cell_type": "code",
   "execution_count": 75,
   "id": "c0f4cf6d",
   "metadata": {},
   "outputs": [
    {
     "data": {
      "text/plain": [
       "True"
      ]
     },
     "execution_count": 75,
     "metadata": {},
     "output_type": "execute_result"
    }
   ],
   "source": [
    "#logical operators(x and y,x or y,  not y)\n",
    "(x>y)and (x!=y)\n",
    "(x<y)and (x!=y)\n",
    "(x<y)or (x!=y)\n",
    "\n",
    "\n"
   ]
  },
  {
   "cell_type": "code",
   "execution_count": 76,
   "id": "07dd5fac",
   "metadata": {},
   "outputs": [
    {
     "data": {
      "text/plain": [
       "True"
      ]
     },
     "execution_count": 76,
     "metadata": {},
     "output_type": "execute_result"
    }
   ],
   "source": [
    "#Membership operators(==,<,>,<=,>=,!=)\n",
    "x=[1,2,3,4,5]\n",
    "y=7\n",
    "y  not in x"
   ]
  }
 ],
 "metadata": {
  "kernelspec": {
   "display_name": "base",
   "language": "python",
   "name": "python3"
  },
  "language_info": {
   "codemirror_mode": {
    "name": "ipython",
    "version": 3
   },
   "file_extension": ".py",
   "mimetype": "text/x-python",
   "name": "python",
   "nbconvert_exporter": "python",
   "pygments_lexer": "ipython3",
   "version": "3.9.7"
  }
 },
 "nbformat": 4,
 "nbformat_minor": 5
}
